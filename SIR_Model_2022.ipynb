{
  "cells": [
    {
      "cell_type": "markdown",
      "id": "7987fdaf-7f7c-4470-8eda-76286e953964",
      "metadata": {
        "id": "7987fdaf-7f7c-4470-8eda-76286e953964"
      },
      "source": [
        "# Pandemic! Control a Pandemic Disease before it Runs Rampant\n",
        "_[Mini-workshop@SC22] November 13, 2022_ <br>\n",
        "Reference Site: https://hackhpc.github.io/StudentHackatSC22/\n",
        "\n",
        "A SIR model is an epidemiological model that computes the theoretical number of people infected with a contagious illness in a closed population over time. The name of this class of models derives from the fact that they involve coupled equations relating the number of susceptible people S(t), number of people infected I(t), and number of people who have recovered R(t).<br> \n",
        "\n",
        "<img src=\"images/SIR-model.png\" style=\"border: solid 2px black;\"></img>\n",
        "\n",
        "In this model, we've introduced 2 object classes, the Person Object, and the Population Object - essentially a collection of People. <br>\n",
        "\n",
        "We will use a simple model where a person can be:\n",
        "- susceptible: they are healthy, but can be infected;\n",
        "- sick: when they are sick, they can infect other people;\n",
        "- recovered: they have been sick, but no longer carry the disease, and can not be infected for a\n",
        "second time;\n",
        "- vaccinated: they are healthy, do not carry the disease, and can not be infected\n",
        "\n",
        "There will be a patient zero.<br><br>\n",
        "Some assumptions:\n",
        "- When a Person interacts with a Person with the status of \"sick\", that Person then has a 10% chance of becoming sick themselves.\n",
        "- Each Person interacts with the same constant number of people\n",
        "- A Person stays sick for 5 days\n",
        "- Once a Persons recovers, they become innoculated\n"
      ]
    },
    {
      "cell_type": "markdown",
      "id": "839c5092-d68e-48a8-94af-022ba960d32c",
      "metadata": {
        "id": "839c5092-d68e-48a8-94af-022ba960d32c"
      },
      "source": [
        "### Person object parameters:\n",
        "\n",
        "#### &#128100; Joe:\n",
        "##### has a state: Suceptable, Infected, Recovered\n",
        "##### has number of days sick &#129319;\n",
        "##### chance of being sick\n"
      ]
    },
    {
      "cell_type": "code",
      "execution_count": null,
      "id": "5eea30be-ad7f-4da0-a86d-665dc2a9146a",
      "metadata": {
        "id": "5eea30be-ad7f-4da0-a86d-665dc2a9146a"
      },
      "outputs": [],
      "source": [
        "import numpy as np\n",
        "import random\n",
        "\n",
        "my_array = np.array"
      ]
    },
    {
      "cell_type": "code",
      "execution_count": null,
      "id": "def204db-e0d2-4a44-ab04-21aa02b9aec3",
      "metadata": {
        "id": "def204db-e0d2-4a44-ab04-21aa02b9aec3"
      },
      "outputs": [],
      "source": [
        "class Person(object):\n",
        "    def __init__(self):\n",
        "        self.status = \"Susceptible\"\n",
        "        self.days_sick = 0\n",
        "        self.sickness_rate = 10\n",
        "        self.Interaction = []\n",
        "        self.masked = False\n",
        "\n",
        "        self.vaccinated = False\n",
        "        \n",
        "\n",
        "    def vaccine(self, vaxed, type):\n",
        "      if(vaxed and type == \"Moderna\"):\n",
        "        self.set_sickness_rate(self.set_sickness_rate * .3)\n",
        "        self.vaccinated = True\n",
        "      elif(vaxed and type == \"Pfizer\"):\n",
        "        self.set_sickness_rate(self.set_sickness_rate * .2)\n",
        "        self.vaccinated = True\n",
        "      elif(vaxed and type == \"J&J\"):\n",
        "        self.set_sickness_rate(self.set_sickness_rate * .15)\n",
        "        self.vaccinated = True\n",
        "\n",
        "    def maskUp(self, wears_mask):\n",
        "        if (wears_mask):\n",
        "            self.set_sickness_rate(self.sickness_rate/2)\n",
        "            self.masked = True\n",
        "    \n",
        "    def set_sickness_rate(self, new_rate):\n",
        "        self.sickness_rate = new_rate\n",
        "    \n",
        "    def infect(self, number_of_days_sick):\n",
        "        self.status = \"Infected\"\n",
        "        self.days_sick = number_of_days_sick\n",
        "    \n",
        "    def recover(self):\n",
        "        self.status = \"Recovered\"\n",
        "        self.days_sick = 0\n",
        "    \n",
        "    def update(self):\n",
        "        if (self.status == \"Susceptible\"):\n",
        "            self.roll_for_infection()\n",
        "            \n",
        "        elif (self.status == \"Infected\"):            \n",
        "            self.days_sick = self.days_sick - 1\n",
        "            if (self.days_sick <= 0):\n",
        "                self.recover()\n",
        "    \n",
        "    def update_days_sick(self):\n",
        "        if (self.status == \"Infected\"):            \n",
        "            self.days_sick = self.days_sick - 1\n",
        "            if (self.days_sick <= 0):\n",
        "                self.recover()\n",
        "            \n",
        "\n",
        "            \n",
        "    def roll_for_infection(self):\n",
        "        is_sick = (random.randint(1,101) < self.sickness_rate)\n",
        "        if (is_sick):\n",
        "            self.infect(4)\n",
        "            \n",
        "        "
      ]
    },
    {
      "cell_type": "markdown",
      "id": "74e87541-e941-4791-a2e9-4c1d513ce595",
      "metadata": {
        "id": "74e87541-e941-4791-a2e9-4c1d513ce595"
      },
      "source": [
        "Let's implement our object,  </br>\n",
        "start w/ instantiating Joe as a Person and Jane as a Person"
      ]
    },
    {
      "cell_type": "code",
      "execution_count": null,
      "id": "9bb17182-04c4-450d-87c8-84deba516ddf",
      "metadata": {
        "colab": {
          "base_uri": "https://localhost:8080/"
        },
        "id": "9bb17182-04c4-450d-87c8-84deba516ddf",
        "outputId": "1dbbe7cd-e56d-4dff-bbb7-890874bd508d"
      },
      "outputs": [
        {
          "output_type": "stream",
          "name": "stdout",
          "text": [
            "Joe is Susceptible day:1\n",
            "Jane is Susceptible day:1\n",
            "Joe is Susceptible day:2\n",
            "Jane is Susceptible day:2\n",
            "Joe is Susceptible day:3\n",
            "Jane is Susceptible day:3\n",
            "Joe is Susceptible day:4\n",
            "Jane is Susceptible day:4\n",
            "Joe is Susceptible day:5\n",
            "Jane is Susceptible day:5\n",
            "Joe is Susceptible day:6\n",
            "Jane is Susceptible day:6\n",
            "Joe is Susceptible day:7\n",
            "Jane is Susceptible day:7\n",
            "Joe is Susceptible day:8\n",
            "Jane is Susceptible day:8\n",
            "Joe is Infected day:9\n",
            "Jane is Susceptible day:9\n",
            "Joe is Infected day:10\n",
            "Jane is Susceptible day:10\n",
            "Joe is Infected day:11\n",
            "Jane is Infected day:11\n",
            "Joe is Infected day:12\n",
            "Jane is Infected day:12\n",
            "Joe is Recovered day:13\n",
            "Jane is Infected day:13\n",
            "Joe is Recovered day:14\n",
            "Jane is Infected day:14\n",
            "Joe is Recovered day:15\n",
            "Jane is Recovered day:15\n"
          ]
        }
      ],
      "source": [
        "Joe = Person()\n",
        "Jane = Person()\n",
        "Jane.set_sickness_rate(10) #jane has a different sickness rate, joe has the default\n",
        "\n",
        "day = 0\n",
        "\n",
        "while (Joe.status != \"Recovered\" or Jane.status != \"Recovered\"):\n",
        "    day = day + 1        \n",
        "    Joe.update()\n",
        "    if (Joe.status == \"Infected\" or Jane.status == \"Infected\"):\n",
        "        Jane.update()\n",
        "        \n",
        "        \n",
        "    print(\"Joe is \" + Joe.status + \" day:\" + str(day))\n",
        "    print(\"Jane is \" + Jane.status + \" day:\" + str(day))\n",
        "    \n",
        "    #My conditions didn't happen, let's rerun\n",
        "    #if Joe is recovered and Jane is still susceptable, the condtions for our program weren't met\n",
        "    #run it again!\n",
        "    if (Joe.status == \"Recovered\" and Jane.status == \"Susceptible\"):\n",
        "        Joe.status = \"Susceptible\"\n",
        "        day = 0\n",
        "        print()\n",
        "        print (\"------- reset -------\")\n"
      ]
    },
    {
      "cell_type": "markdown",
      "id": "87359155-ad4f-4530-b3e0-f39f92c98b8a",
      "metadata": {
        "id": "87359155-ad4f-4530-b3e0-f39f92c98b8a"
      },
      "source": [
        "#### &#128101; Now, we're going to create a population of 100 Persons\n"
      ]
    },
    {
      "cell_type": "code",
      "execution_count": null,
      "id": "62245fa8-fc12-445e-bcac-1f74f2ce77ae",
      "metadata": {
        "id": "62245fa8-fc12-445e-bcac-1f74f2ce77ae"
      },
      "outputs": [],
      "source": [
        "my_population = []\n",
        "n = 101\n",
        "for i in range(0,n):\n",
        "    generic_dude = Person()\n",
        "    my_population.append(generic_dude) # we now have a population of 100 people\n",
        "    "
      ]
    },
    {
      "cell_type": "code",
      "execution_count": null,
      "id": "304aed05-e388-4606-b946-55dd5e993663",
      "metadata": {
        "colab": {
          "base_uri": "https://localhost:8080/"
        },
        "id": "304aed05-e388-4606-b946-55dd5e993663",
        "outputId": "591dbab2-9a79-406c-952f-fee67ca5dfcf"
      },
      "outputs": [
        {
          "output_type": "stream",
          "name": "stdout",
          "text": [
            "<class 'list'>\n"
          ]
        }
      ],
      "source": [
        "print (type(my_population))"
      ]
    },
    {
      "cell_type": "code",
      "execution_count": null,
      "id": "89347799-ca95-483e-a75c-e5115f005ef6",
      "metadata": {
        "colab": {
          "base_uri": "https://localhost:8080/"
        },
        "id": "89347799-ca95-483e-a75c-e5115f005ef6",
        "outputId": "b7883736-9cfb-41a0-fd46-ba49cc7175ac"
      },
      "outputs": [
        {
          "output_type": "stream",
          "name": "stdout",
          "text": [
            "101\n"
          ]
        }
      ],
      "source": [
        "print (len(my_population))"
      ]
    },
    {
      "cell_type": "code",
      "execution_count": null,
      "id": "e5de4a26-6ca5-4e98-9ef1-33d3a4a7b4f9",
      "metadata": {
        "colab": {
          "base_uri": "https://localhost:8080/"
        },
        "id": "e5de4a26-6ca5-4e98-9ef1-33d3a4a7b4f9",
        "outputId": "6f9e77f8-dc8d-43e6-a46b-5866c51dd55f"
      },
      "outputs": [
        {
          "output_type": "stream",
          "name": "stdout",
          "text": [
            "<class '__main__.Person'>\n"
          ]
        }
      ],
      "source": [
        "print (type(my_population[99]))"
      ]
    },
    {
      "cell_type": "code",
      "execution_count": null,
      "id": "f50847da-63e2-41d7-8125-2fe4755c8776",
      "metadata": {
        "colab": {
          "base_uri": "https://localhost:8080/"
        },
        "id": "f50847da-63e2-41d7-8125-2fe4755c8776",
        "outputId": "9d03c905-92d2-4d3c-84a5-14804d46648e"
      },
      "outputs": [
        {
          "output_type": "stream",
          "name": "stdout",
          "text": [
            "Infected\n"
          ]
        }
      ],
      "source": [
        "my_population[99].infect(10) # Let's see if our code works\n",
        "print (my_population[99].status)"
      ]
    },
    {
      "cell_type": "markdown",
      "id": "a5931a05-246c-4bbb-bc12-134dc9dcb76d",
      "metadata": {
        "id": "a5931a05-246c-4bbb-bc12-134dc9dcb76d"
      },
      "source": [
        "### Let see if we can figure out a way for Persons to interact"
      ]
    },
    {
      "cell_type": "code",
      "execution_count": null,
      "id": "ebd2ec92-24cb-45b2-8389-e7b91d5bbfce",
      "metadata": {
        "id": "ebd2ec92-24cb-45b2-8389-e7b91d5bbfce"
      },
      "outputs": [],
      "source": [
        "interactions = []\n",
        "index = -1\n",
        "for p in my_population:\n",
        "    p_interactions = []\n",
        "    for i in range(0,10):\n",
        "        r = random.randint(0,100)\n",
        "        p_interactions.append(r)\n",
        "    interactions.append(p_interactions)\n",
        "\n",
        "for i in interactions:\n",
        "    index = index + 1\n",
        "    print (\"Person:\", index, \" interacted with:\", i)"
      ]
    },
    {
      "cell_type": "markdown",
      "id": "c8c6ea89-cabd-473e-8fda-d53cd94142a2",
      "metadata": {
        "id": "c8c6ea89-cabd-473e-8fda-d53cd94142a2"
      },
      "source": [
        "Randomly Infect 10 people\n",
        "print out the number of people who are sick at the beginning of day 1\n",
        "\n",
        "We're going to simulate Day 1\n",
        "If anyone interacts with these 10 people, they must roll a die to see if they get sick\n",
        "\n",
        "meaning, every sick person that shows up in someones interaction list, that someone rolls to see if they get sick or not.\n",
        "\n",
        "Also, *every* person who shows up in a sick persons interaction list, has to roll to see if they get sick or not.\n",
        "\n",
        "Print out the number of people sick after day 1"
      ]
    },
    {
      "cell_type": "code",
      "execution_count": null,
      "id": "8b2f1750-a781-4c9f-8931-981563f22d0d",
      "metadata": {
        "id": "8b2f1750-a781-4c9f-8931-981563f22d0d"
      },
      "outputs": [],
      "source": [
        "#first thing: infect 10 people\n",
        "\n",
        "#print out the number of people who are sick\n",
        "\n",
        "#look at their interaction lists\n",
        "\n",
        "#If anyone interacts with them, see if they get sick\n",
        "\n",
        "\n"
      ]
    },
    {
      "cell_type": "code",
      "execution_count": null,
      "id": "dba36a2f-59cf-4f30-a376-2066843ffb75",
      "metadata": {
        "id": "dba36a2f-59cf-4f30-a376-2066843ffb75",
        "colab": {
          "base_uri": "https://localhost:8080/"
        },
        "outputId": "f89e7eee-1b95-4f4e-e95b-316684ec6188"
      },
      "outputs": [
        {
          "output_type": "stream",
          "name": "stdout",
          "text": [
            "Day 1, number of people sick:10\n",
            "[76, 93, 74, 95, 75, 30, 20, 4, 77, 89]\n",
            "End of Day 1, number of people sick: 44\n",
            "[76, 93, 74, 95, 75, 30, 20, 4, 77, 89, 84, 11, 73, 5, 49, 7, 8, 9, 68, 90, 21, 26, 29, 32, 31, 42, 45, 35, 36, 38, 51, 17, 46, 47, 54, 55, 60, 78, 53, 3, 98, 80, 24, 97]\n"
          ]
        }
      ],
      "source": [
        "# We're selecting 10 indexes of people we're going to infect\n",
        "currently_infected = random.sample(range(100), 10)\n",
        "\n",
        "for i in currently_infected:\n",
        "    my_population[i].infect(5)\n",
        "\n",
        "\n",
        "print (\"Day 1, number of people sick:\" + str(len(currently_infected)))\n",
        "print (currently_infected)\n",
        "\n",
        "interactions = []\n",
        "person_index = -1\n",
        "for p in my_population:\n",
        "    person_index = person_index + 1\n",
        "\n",
        "    # if person_index is in the currently_sick list, everyone they interact w/ can get sick\n",
        "    \n",
        "    p_interactions = []\n",
        "    for i in range(0,10):        \n",
        "        r = random.randint(0,99)\n",
        "        p_interactions.append(r)\n",
        "\n",
        "        #If person_index is already sick, everyone they contact, might also get sick\n",
        "        \n",
        "        if (person_index in currently_infected):\n",
        "            my_population[r].update()\n",
        "            if (my_population[r].status == \"Infected\" and r not in currently_infected):\n",
        "                currently_infected.append(r)\n",
        "        #If anyone has an infected person in their interactions list, *they* might get infected\n",
        "        if (r in currently_infected):\n",
        "            my_population[person_index].update()\n",
        "            if (my_population[person_index].status == \"Infected\" and person_index not in currently_infected):\n",
        "                currently_infected.append(person_index)\n",
        "    interactions.append(p_interactions)\n",
        "        \n",
        "        \n",
        "# person_index = -1\n",
        "# for i in interactions:\n",
        "#     person_index = person_index + 1\n",
        "#     print (\"Person:\", person_index, \" interacted with:\", i)\n",
        "\n",
        "print (\"End of Day 1, number of people sick:\", len(currently_infected))\n",
        "print (currently_infected)"
      ]
    },
    {
      "cell_type": "markdown",
      "id": "f86b3a12-460e-4939-ba98-42ec406cca52",
      "metadata": {
        "id": "f86b3a12-460e-4939-ba98-42ec406cca52"
      },
      "source": [
        "## We need \"something\" to manage and hold our People"
      ]
    },
    {
      "cell_type": "code",
      "execution_count": null,
      "id": "1754a1c7-4f89-427b-9161-b891b9c10aaa",
      "metadata": {
        "id": "1754a1c7-4f89-427b-9161-b891b9c10aaa"
      },
      "outputs": [],
      "source": [
        "class Population:\n",
        "    def __init__(self, number=100, interaction=10, percentage_masked=0, percentage_vaxed=0):\n",
        "        self.People = []\n",
        "        self.number = number\n",
        "        self.interaction = interaction\n",
        "        self.percentage_masked = percentage_masked\n",
        "        self.percentage_vaxed = percentage_vaxed\n",
        "        \n",
        "        if (number < 100):\n",
        "            self.number = 100\n",
        "        \n",
        "        if (interaction < 10):\n",
        "            self.interaction = 10\n",
        "        \n",
        "        ##build our population\n",
        "        patient_Zero = Person()\n",
        "        patient_Zero.infect(5)\n",
        "        \n",
        "        self.People.append(patient_Zero)\n",
        "        \n",
        "        for i in range(0,number):\n",
        "            p = Person()\n",
        "            if (i < number*(self.percentage_masked/100.0) and self.percentage_masked>0):\n",
        "                p.maskUp(True)\n",
        "              \n",
        "            if (i < number*(self.percentage_vaxed/100.0) and self.percentage_vaxed>0):\n",
        "                type = random.randomint(1,3)\n",
        "                if(type == 1):\n",
        "                  p.vaccine(True, \"Moderna\")\n",
        "                elif(type == 2):\n",
        "                  p.vaccine(True, \"Pfizer\")\n",
        "                elif(type == 3):\n",
        "                  p.vaccine(True, \"J&J\")  \n",
        "            self.People.append(p)\n",
        "\n",
        "               \n",
        "            \n",
        "    def number_of_sick(self):\n",
        "        sick_Count = 0\n",
        "        for j in self.People:\n",
        "            if (j.status == \"Infected\"):\n",
        "                sick_Count = sick_Count + 1\n",
        "                \n",
        "        return sick_Count\n",
        "    \n",
        "    def number_of_recovered(self):\n",
        "        recovered_Count = 0\n",
        "        for j in self.People:\n",
        "            if (j.status == \"Recovered\"):\n",
        "                recovered_Count = recovered_Count + 1\n",
        "        \n",
        "        return recovered_Count\n",
        "    \n",
        "    def number_of_susceptible(self):\n",
        "        susceptible_Count = 0\n",
        "        for j in self.People:\n",
        "            if (j.status == \"Susceptible\"):\n",
        "                susceptible_Count = susceptible_Count + 1\n",
        "                \n",
        "        return susceptible_Count\n",
        "    \n",
        "    def number_masked(self):\n",
        "        masked_Count = 0\n",
        "        for j in self.People:\n",
        "            if (j.masked):\n",
        "                masked_Count = masked_Count + 1\n",
        "        \n",
        "        return masked_Count\n",
        "    \n",
        "    def number_masked_sick(self):\n",
        "        masked_SickCount = 0\n",
        "        for j in self.People:\n",
        "            if (j.masked and j.status == \"Infected\"):\n",
        "                masked_SickCount = masked_SickCount + 1\n",
        "        \n",
        "        return masked_SickCount\n",
        "\n",
        "    def number_vaxed(self):\n",
        "        vaxed_Count = 0\n",
        "        for j in self.People:\n",
        "            if (j.vaccinated):\n",
        "                vaxed_Count = vaxed_Count + 1\n",
        "      \n",
        "        return vaxed_Count\n",
        "\n",
        "    def number_vaxed_sick(self):\n",
        "        vaxed_SickCount = 0\n",
        "        for j in self.People:\n",
        "            if (j.vaccinated and j.status == \"Infected\"):\n",
        "                vaxed_SickCount = vaxed_SickCount + 1\n",
        "        \n",
        "        return vaxed_SickCount\n",
        "    \n",
        "    ## Here's the brains of the Population class (and our code)\n",
        "    ## the update will be ran everyday (meaning, every iteration of our while loop)\n",
        "    ## build interaction tables (who interacted with whom)\n",
        "    ## if marked sick they must roll to see if (one per interaction)\n",
        "    ## if I interacted with 10 people, each of them must roll and vice versa if they\n",
        "    ## they were marked as infected\n",
        "    def update(self):\n",
        "        ## people who are might get sick\n",
        "        might_Get_Sick = []\n",
        "        \n",
        "        for person in self.People:\n",
        "            \n",
        "            #clear out your interactions per day\n",
        "            person.Interaction = []\n",
        "            \n",
        "            ##These are the n number of people that you interact with\n",
        "            for i in range(0, self.interaction):\n",
        "                r = random.randint(0,self.number)\n",
        "                person.Interaction.append(r)\n",
        "                \n",
        "            ##if \"person\" is Infected, every single person they interacted with might get sick\n",
        "            if (person.status == \"Infected\"):\n",
        "                person.update_days_sick()\n",
        "                \n",
        "                for m in person.Interaction:\n",
        "                    if (self.People[m].status == \"Susceptible\"): #only susceptible people can get sick\n",
        "                        might_Get_Sick.append(self.People[m])\n",
        "            \n",
        "            ##if \"person\" is susceptible and they interact w/ someone who is \"infected\" \n",
        "            ##person gets added to the \"might get sick\"\n",
        "            if (person.status == \"Susceptible\"):\n",
        "                for m in person.Interaction:\n",
        "                    if (self.People[m].status == \"Infected\"):\n",
        "                        might_Get_Sick.append(person)\n",
        "            \n",
        "        ##Now! We're going to roll through our \"Might Get Sick\" and they each roll a die\n",
        "        ##this is only a list of susceptible people\n",
        "        for p in might_Get_Sick:\n",
        "            p.roll_for_infection()\n",
        "        "
      ]
    },
    {
      "cell_type": "markdown",
      "id": "791a50f6-5ef7-40c8-8ec2-8003386e2a5c",
      "metadata": {
        "id": "791a50f6-5ef7-40c8-8ec2-8003386e2a5c"
      },
      "source": [
        "## Lets build a population\n",
        "Build a population of 1000 with 10 initally infected people:\n",
        "`myCommunity = Population(1000,10)`"
      ]
    },
    {
      "cell_type": "code",
      "execution_count": null,
      "id": "202dbdf6-18f6-48cb-9b1e-4b4f01c9d95d",
      "metadata": {
        "id": "202dbdf6-18f6-48cb-9b1e-4b4f01c9d95d",
        "colab": {
          "base_uri": "https://localhost:8080/"
        },
        "outputId": "49fc7ab6-f130-450d-936e-32fc2b8829fb"
      },
      "outputs": [
        {
          "output_type": "stream",
          "name": "stdout",
          "text": [
            "day: 0 Number of sick: 1\n",
            "day: 1 Number of sick: 1\n",
            "day: 2 Number of sick: 7\n",
            "day: 3 Number of sick: 23\n",
            "day: 4 Number of sick: 69\n",
            "day: 5 Number of sick: 201\n",
            "day: 6 Number of sick: 568\n",
            "day: 7 Number of sick: 1655\n",
            "day: 8 Number of sick: 4541\n",
            "day: 9 Number of sick: 11405\n",
            "day: 10 Number of sick: 23254\n",
            "day: 11 Number of sick: 33186\n",
            "day: 12 Number of sick: 34345\n",
            "day: 13 Number of sick: 28190\n",
            "day: 14 Number of sick: 16112\n",
            "day: 15 Number of sick: 5106\n",
            "day: 16 Number of sick: 1018\n",
            "day: 17 Number of sick: 177\n",
            "day: 18 Number of sick: 33\n",
            "day: 19 Number of sick: 4\n",
            "day: 20 Number of sick: 1\n",
            "day: 21 Number of sick: 0\n",
            "Number recovered: 39974\n",
            "Number susceptible: 27\n"
          ]
        }
      ],
      "source": [
        "# Population( size_of_population, number_of_interactions, percentage_wearing_masks, percentage_vaxed)\n",
        "myCommunity = Population(40000,5)\n",
        "day = 0\n",
        "my_plot = []\n",
        "number_sick = myCommunity.number_of_sick()\n",
        "while (number_sick > 0):\n",
        "    number_sick = myCommunity.number_of_sick()\n",
        "    number_recovered = myCommunity.number_of_recovered()\n",
        "    number_masked = myCommunity.number_masked()\n",
        "    number_masked_sick = myCommunity.number_masked_sick()\n",
        "    number_vaxed = myCommunity.number_vaxed()\n",
        "    number_vaxed_sick = myCommunity.number_vaxed_sick()\n",
        "    \n",
        "    my_plot.append([day, number_sick, number_recovered, number_vaxed])\n",
        "    \n",
        "    if (myCommunity.percentage_masked > 0):\n",
        "        print (\"day:\", day, \"Number of sick:\", number_sick, \"Sick Mask Wearers:\", number_masked_sick, \"Mask Wearers:\", number_masked, \"Sick Vaxed:\", number_vaxed, \"Vaxed:\", number_vaxed)\n",
        "    else:\n",
        "        print (\"day:\", day, \"Number of sick:\", number_sick)\n",
        "    \n",
        "    day = day+1\n",
        "    myCommunity.update()\n",
        "\n",
        "#print (\"day:\", day, \"Number of sick:\", myCommunity.number_of_sick())\n",
        "print (\"Number recovered:\", myCommunity.number_of_recovered())\n",
        "print (\"Number susceptible:\", myCommunity.number_of_susceptible())\n",
        "\n",
        "#print (my_plot)"
      ]
    },
    {
      "cell_type": "markdown",
      "id": "54e0220b-63cf-4cd2-b594-459383d0014a",
      "metadata": {
        "id": "54e0220b-63cf-4cd2-b594-459383d0014a"
      },
      "source": [
        "# &#128202; Plot your results"
      ]
    },
    {
      "cell_type": "code",
      "execution_count": null,
      "id": "48b285d4-abd9-4044-9621-2dcb8b24e08e",
      "metadata": {
        "id": "48b285d4-abd9-4044-9621-2dcb8b24e08e"
      },
      "outputs": [],
      "source": [
        "import pandas as pd\n",
        "import matplotlib.pyplot as plt"
      ]
    },
    {
      "cell_type": "code",
      "execution_count": null,
      "id": "0378df8e-349a-4fcf-b5ac-979ccced8ae4",
      "metadata": {
        "id": "0378df8e-349a-4fcf-b5ac-979ccced8ae4"
      },
      "outputs": [],
      "source": [
        "df = pd.DataFrame(my_plot, columns=['day','number_sick', 'number_recovered', 'number_vaxed'])"
      ]
    },
    {
      "cell_type": "code",
      "execution_count": null,
      "id": "1d85771a-13a5-47f8-b830-79094319b2e2",
      "metadata": {
        "id": "1d85771a-13a5-47f8-b830-79094319b2e2",
        "colab": {
          "base_uri": "https://localhost:8080/",
          "height": 739
        },
        "outputId": "63c6f7ed-bff2-4966-838f-cc2049112313"
      },
      "outputs": [
        {
          "output_type": "execute_result",
          "data": {
            "text/plain": [
              "    day  number_sick  number_recovered  number_vaxed\n",
              "0     0            1                 0             0\n",
              "1     1            1                 0             0\n",
              "2     2            7                 0             0\n",
              "3     3           23                 0             0\n",
              "4     4           69                 0             0\n",
              "5     5          201                 1             0\n",
              "6     6          568                 7             0\n",
              "7     7         1655                23             0\n",
              "8     8         4541                69             0\n",
              "9     9        11405               202             0\n",
              "10   10        23254               575             0\n",
              "11   11        33186              1678             0\n",
              "12   12        34345              4610             0\n",
              "13   13        28190             11607             0\n",
              "14   14        16112             23829             0\n",
              "15   15         5106             34864             0\n",
              "16   16         1018             38955             0\n",
              "17   17          177             39797             0\n",
              "18   18           33             39941             0\n",
              "19   19            4             39970             0\n",
              "20   20            1             39973             0\n",
              "21   21            0             39974             0"
            ],
            "text/html": [
              "\n",
              "  <div id=\"df-f23249a4-0efd-4e82-8476-4d7d9ff769a9\">\n",
              "    <div class=\"colab-df-container\">\n",
              "      <div>\n",
              "<style scoped>\n",
              "    .dataframe tbody tr th:only-of-type {\n",
              "        vertical-align: middle;\n",
              "    }\n",
              "\n",
              "    .dataframe tbody tr th {\n",
              "        vertical-align: top;\n",
              "    }\n",
              "\n",
              "    .dataframe thead th {\n",
              "        text-align: right;\n",
              "    }\n",
              "</style>\n",
              "<table border=\"1\" class=\"dataframe\">\n",
              "  <thead>\n",
              "    <tr style=\"text-align: right;\">\n",
              "      <th></th>\n",
              "      <th>day</th>\n",
              "      <th>number_sick</th>\n",
              "      <th>number_recovered</th>\n",
              "      <th>number_vaxed</th>\n",
              "    </tr>\n",
              "  </thead>\n",
              "  <tbody>\n",
              "    <tr>\n",
              "      <th>0</th>\n",
              "      <td>0</td>\n",
              "      <td>1</td>\n",
              "      <td>0</td>\n",
              "      <td>0</td>\n",
              "    </tr>\n",
              "    <tr>\n",
              "      <th>1</th>\n",
              "      <td>1</td>\n",
              "      <td>1</td>\n",
              "      <td>0</td>\n",
              "      <td>0</td>\n",
              "    </tr>\n",
              "    <tr>\n",
              "      <th>2</th>\n",
              "      <td>2</td>\n",
              "      <td>7</td>\n",
              "      <td>0</td>\n",
              "      <td>0</td>\n",
              "    </tr>\n",
              "    <tr>\n",
              "      <th>3</th>\n",
              "      <td>3</td>\n",
              "      <td>23</td>\n",
              "      <td>0</td>\n",
              "      <td>0</td>\n",
              "    </tr>\n",
              "    <tr>\n",
              "      <th>4</th>\n",
              "      <td>4</td>\n",
              "      <td>69</td>\n",
              "      <td>0</td>\n",
              "      <td>0</td>\n",
              "    </tr>\n",
              "    <tr>\n",
              "      <th>5</th>\n",
              "      <td>5</td>\n",
              "      <td>201</td>\n",
              "      <td>1</td>\n",
              "      <td>0</td>\n",
              "    </tr>\n",
              "    <tr>\n",
              "      <th>6</th>\n",
              "      <td>6</td>\n",
              "      <td>568</td>\n",
              "      <td>7</td>\n",
              "      <td>0</td>\n",
              "    </tr>\n",
              "    <tr>\n",
              "      <th>7</th>\n",
              "      <td>7</td>\n",
              "      <td>1655</td>\n",
              "      <td>23</td>\n",
              "      <td>0</td>\n",
              "    </tr>\n",
              "    <tr>\n",
              "      <th>8</th>\n",
              "      <td>8</td>\n",
              "      <td>4541</td>\n",
              "      <td>69</td>\n",
              "      <td>0</td>\n",
              "    </tr>\n",
              "    <tr>\n",
              "      <th>9</th>\n",
              "      <td>9</td>\n",
              "      <td>11405</td>\n",
              "      <td>202</td>\n",
              "      <td>0</td>\n",
              "    </tr>\n",
              "    <tr>\n",
              "      <th>10</th>\n",
              "      <td>10</td>\n",
              "      <td>23254</td>\n",
              "      <td>575</td>\n",
              "      <td>0</td>\n",
              "    </tr>\n",
              "    <tr>\n",
              "      <th>11</th>\n",
              "      <td>11</td>\n",
              "      <td>33186</td>\n",
              "      <td>1678</td>\n",
              "      <td>0</td>\n",
              "    </tr>\n",
              "    <tr>\n",
              "      <th>12</th>\n",
              "      <td>12</td>\n",
              "      <td>34345</td>\n",
              "      <td>4610</td>\n",
              "      <td>0</td>\n",
              "    </tr>\n",
              "    <tr>\n",
              "      <th>13</th>\n",
              "      <td>13</td>\n",
              "      <td>28190</td>\n",
              "      <td>11607</td>\n",
              "      <td>0</td>\n",
              "    </tr>\n",
              "    <tr>\n",
              "      <th>14</th>\n",
              "      <td>14</td>\n",
              "      <td>16112</td>\n",
              "      <td>23829</td>\n",
              "      <td>0</td>\n",
              "    </tr>\n",
              "    <tr>\n",
              "      <th>15</th>\n",
              "      <td>15</td>\n",
              "      <td>5106</td>\n",
              "      <td>34864</td>\n",
              "      <td>0</td>\n",
              "    </tr>\n",
              "    <tr>\n",
              "      <th>16</th>\n",
              "      <td>16</td>\n",
              "      <td>1018</td>\n",
              "      <td>38955</td>\n",
              "      <td>0</td>\n",
              "    </tr>\n",
              "    <tr>\n",
              "      <th>17</th>\n",
              "      <td>17</td>\n",
              "      <td>177</td>\n",
              "      <td>39797</td>\n",
              "      <td>0</td>\n",
              "    </tr>\n",
              "    <tr>\n",
              "      <th>18</th>\n",
              "      <td>18</td>\n",
              "      <td>33</td>\n",
              "      <td>39941</td>\n",
              "      <td>0</td>\n",
              "    </tr>\n",
              "    <tr>\n",
              "      <th>19</th>\n",
              "      <td>19</td>\n",
              "      <td>4</td>\n",
              "      <td>39970</td>\n",
              "      <td>0</td>\n",
              "    </tr>\n",
              "    <tr>\n",
              "      <th>20</th>\n",
              "      <td>20</td>\n",
              "      <td>1</td>\n",
              "      <td>39973</td>\n",
              "      <td>0</td>\n",
              "    </tr>\n",
              "    <tr>\n",
              "      <th>21</th>\n",
              "      <td>21</td>\n",
              "      <td>0</td>\n",
              "      <td>39974</td>\n",
              "      <td>0</td>\n",
              "    </tr>\n",
              "  </tbody>\n",
              "</table>\n",
              "</div>\n",
              "      <button class=\"colab-df-convert\" onclick=\"convertToInteractive('df-f23249a4-0efd-4e82-8476-4d7d9ff769a9')\"\n",
              "              title=\"Convert this dataframe to an interactive table.\"\n",
              "              style=\"display:none;\">\n",
              "        \n",
              "  <svg xmlns=\"http://www.w3.org/2000/svg\" height=\"24px\"viewBox=\"0 0 24 24\"\n",
              "       width=\"24px\">\n",
              "    <path d=\"M0 0h24v24H0V0z\" fill=\"none\"/>\n",
              "    <path d=\"M18.56 5.44l.94 2.06.94-2.06 2.06-.94-2.06-.94-.94-2.06-.94 2.06-2.06.94zm-11 1L8.5 8.5l.94-2.06 2.06-.94-2.06-.94L8.5 2.5l-.94 2.06-2.06.94zm10 10l.94 2.06.94-2.06 2.06-.94-2.06-.94-.94-2.06-.94 2.06-2.06.94z\"/><path d=\"M17.41 7.96l-1.37-1.37c-.4-.4-.92-.59-1.43-.59-.52 0-1.04.2-1.43.59L10.3 9.45l-7.72 7.72c-.78.78-.78 2.05 0 2.83L4 21.41c.39.39.9.59 1.41.59.51 0 1.02-.2 1.41-.59l7.78-7.78 2.81-2.81c.8-.78.8-2.07 0-2.86zM5.41 20L4 18.59l7.72-7.72 1.47 1.35L5.41 20z\"/>\n",
              "  </svg>\n",
              "      </button>\n",
              "      \n",
              "  <style>\n",
              "    .colab-df-container {\n",
              "      display:flex;\n",
              "      flex-wrap:wrap;\n",
              "      gap: 12px;\n",
              "    }\n",
              "\n",
              "    .colab-df-convert {\n",
              "      background-color: #E8F0FE;\n",
              "      border: none;\n",
              "      border-radius: 50%;\n",
              "      cursor: pointer;\n",
              "      display: none;\n",
              "      fill: #1967D2;\n",
              "      height: 32px;\n",
              "      padding: 0 0 0 0;\n",
              "      width: 32px;\n",
              "    }\n",
              "\n",
              "    .colab-df-convert:hover {\n",
              "      background-color: #E2EBFA;\n",
              "      box-shadow: 0px 1px 2px rgba(60, 64, 67, 0.3), 0px 1px 3px 1px rgba(60, 64, 67, 0.15);\n",
              "      fill: #174EA6;\n",
              "    }\n",
              "\n",
              "    [theme=dark] .colab-df-convert {\n",
              "      background-color: #3B4455;\n",
              "      fill: #D2E3FC;\n",
              "    }\n",
              "\n",
              "    [theme=dark] .colab-df-convert:hover {\n",
              "      background-color: #434B5C;\n",
              "      box-shadow: 0px 1px 3px 1px rgba(0, 0, 0, 0.15);\n",
              "      filter: drop-shadow(0px 1px 2px rgba(0, 0, 0, 0.3));\n",
              "      fill: #FFFFFF;\n",
              "    }\n",
              "  </style>\n",
              "\n",
              "      <script>\n",
              "        const buttonEl =\n",
              "          document.querySelector('#df-f23249a4-0efd-4e82-8476-4d7d9ff769a9 button.colab-df-convert');\n",
              "        buttonEl.style.display =\n",
              "          google.colab.kernel.accessAllowed ? 'block' : 'none';\n",
              "\n",
              "        async function convertToInteractive(key) {\n",
              "          const element = document.querySelector('#df-f23249a4-0efd-4e82-8476-4d7d9ff769a9');\n",
              "          const dataTable =\n",
              "            await google.colab.kernel.invokeFunction('convertToInteractive',\n",
              "                                                     [key], {});\n",
              "          if (!dataTable) return;\n",
              "\n",
              "          const docLinkHtml = 'Like what you see? Visit the ' +\n",
              "            '<a target=\"_blank\" href=https://colab.research.google.com/notebooks/data_table.ipynb>data table notebook</a>'\n",
              "            + ' to learn more about interactive tables.';\n",
              "          element.innerHTML = '';\n",
              "          dataTable['output_type'] = 'display_data';\n",
              "          await google.colab.output.renderOutput(dataTable, element);\n",
              "          const docLink = document.createElement('div');\n",
              "          docLink.innerHTML = docLinkHtml;\n",
              "          element.appendChild(docLink);\n",
              "        }\n",
              "      </script>\n",
              "    </div>\n",
              "  </div>\n",
              "  "
            ]
          },
          "metadata": {},
          "execution_count": 65
        }
      ],
      "source": [
        "df"
      ]
    },
    {
      "cell_type": "code",
      "execution_count": null,
      "id": "67eafb8e-5193-44f9-b6f4-8c612213fc68",
      "metadata": {
        "id": "67eafb8e-5193-44f9-b6f4-8c612213fc68",
        "colab": {
          "base_uri": "https://localhost:8080/",
          "height": 449
        },
        "outputId": "43db7f2e-1e08-4fb4-ebeb-1003bcb519f9"
      },
      "outputs": [
        {
          "output_type": "display_data",
          "data": {
            "text/plain": [
              "<Figure size 640x480 with 1 Axes>"
            ],
            "image/png": "[encoded data removed]"
          },
          "metadata": {}
        }
      ],
      "source": [
        "fig = plt.figure()\n",
        "ax = plt.gca()\n",
        "fig = df.plot(kind='line', x='day', y='number_sick', ax=ax).get_figure()\n",
        "plt.savefig('test.png', bbox_inches='tight')\n",
        "plt.show()"
      ]
    },
    {
      "cell_type": "code",
      "execution_count": null,
      "id": "0f39ff0a-518b-49b8-b4e8-62a770dc8ef3",
      "metadata": {
        "id": "0f39ff0a-518b-49b8-b4e8-62a770dc8ef3"
      },
      "outputs": [],
      "source": [
        "fig = plt.figure()\n",
        "ax = plt.gca()\n",
        "fig = df.plot(kind='line', x='day', y='number_recovered', ax=ax).get_figure()\n",
        "plt.savefig('test.png', bbox_inches='tight')\n",
        "plt.show()"
      ]
    },
    {
      "cell_type": "code",
      "execution_count": null,
      "id": "ee2eca21-c03b-4e99-8d65-cb3c848b2ded",
      "metadata": {
        "id": "ee2eca21-c03b-4e99-8d65-cb3c848b2ded",
        "colab": {
          "base_uri": "https://localhost:8080/",
          "height": 449
        },
        "outputId": "1f0ac9e8-2482-4914-9268-d4885772c2d7"
      },
      "outputs": [
        {
          "output_type": "display_data",
          "data": {
            "text/plain": [
              "<Figure size 640x480 with 1 Axes>"
            ],
            "image/png": "[encoded data removed]"
          },
          "metadata": {}
        }
      ],
      "source": [
        "fig = plt.figure()\n",
        "ax1 = plt.gca()\n",
        "fig1 = df.plot(kind='line', x='day', y='number_recovered', ax=ax1).get_figure()\n",
        "fig2 = df.plot(kind='line', x='day', y='number_sick', ax=ax1).get_figure()\n",
        "fig3 = df.plot(kind='line', x='day', y='number_vaxed', ax=ax1).get_figure()\n",
        "plt.savefig('test.png')\n",
        "plt.show()"
      ]
    },
    {
      "cell_type": "code",
      "execution_count": null,
      "id": "bbd9818d-2e03-40e7-b2ed-ce346978c812",
      "metadata": {
        "id": "bbd9818d-2e03-40e7-b2ed-ce346978c812"
      },
      "outputs": [],
      "source": [
        "df.to_csv(\"mydata.csv\")"
      ]
    },
    {
      "cell_type": "markdown",
      "id": "d7f7f4a2-4646-4b37-a6dc-7dcd6432fa92",
      "metadata": {
        "id": "d7f7f4a2-4646-4b37-a6dc-7dcd6432fa92"
      },
      "source": [
        "# Adding an \"Intervention\": Incorporating Mask Wearing\n",
        "\n",
        "Ref: Mask Effectiveness: https://www.cdc.gov/mmwr/volumes/71/wr/mm7106e1.htm \n",
        "\n",
        "Modify the `myCommunity = Population(40000,5,0)` decleration.\n",
        "\n",
        "_Syntax:_\n",
        "\n",
        "```Population( size_of_population, number_of_interactions, percentage_wearing_masks)```\n"
      ]
    },
    {
      "cell_type": "markdown",
      "id": "66f65919-598e-4d57-abda-8f4a62148121",
      "metadata": {
        "id": "66f65919-598e-4d57-abda-8f4a62148121"
      },
      "source": [
        "---\n",
        "<img src=\"images/Covid-SEIR-model.png\" style=\"border: solid 2px black;\"></img>\n",
        "\n",
        "<h1 style=\"color: purple;\">&#127942; SC22 Mini-Workshop Challenge</h1>\n",
        "\n",
        "Your challenge is to add interventions to the code based on the population and availability of ICU beds in Texarkana, TX so that critical care is never overwhlemed. You will need to find or designate a Critical Care Rate of no less than 25% without a vaccine.\n",
        "\n",
        "**Suggested interventions:**\n",
        "- &#128567; Masks \n",
        "- &#128137; Vaccinations  \n",
        "- &#128694; Social Distancing \n",
        "\n",
        "<h2 style=\"color:Green\"> Texarkana Specific References:</h2>\n",
        "\n",
        "Ref: Individual Hospital Statistics for Texas: https://www.ahd.com/states/hospital_TX.html\n",
        "\n",
        "&#128657; **Texarkana, TX Hospital Beds:**\n",
        "\n",
        " - CHRISTUS Saint Michael Hospital - 275 Total Beds / Special Care - 40\n",
        " - Wadley Regional Medical Center - 185 Total Beds / Special Care - 26\n",
        " \n",
        " **&#128719; Total 66 ICU Beds**\n",
        "\n",
        "\n",
        " ### CDC References:\n",
        " - Example Hospitalization Rates Pre-Vaccine: https://www.cdc.gov/mmwr/volumes/69/wr/mm6915e3.htm\n",
        " - Death Rates between Vaccinated and Unvaccinated: https://www.cdc.gov/mmwr/volumes/71/wr/mm7104e2.htm#T1_down \n",
        " - Mask Effectiveness: https://www.cdc.gov/mmwr/volumes/71/wr/mm7106e1.htm\n",
        " \n",
        "\n",
        "\n",
        "\n"
      ]
    },
    {
      "cell_type": "code",
      "execution_count": null,
      "id": "216e8937-3863-4f65-95e3-0d9bf72bbef2",
      "metadata": {
        "id": "216e8937-3863-4f65-95e3-0d9bf72bbef2"
      },
      "outputs": [],
      "source": []
    }
  ],
  "metadata": {
    "IMAGE_NAME": "taccsciapps/ds-nb-img:base-0.1.0",
    "UUID": "f5fba3ea-e6a5-11ec-b09d-b6ecb6431114",
    "kernelspec": {
      "display_name": "Python 3 (ipykernel)",
      "language": "python",
      "name": "python3"
    },
    "language_info": {
      "codemirror_mode": {
        "name": "ipython",
        "version": 3
      },
      "file_extension": ".py",
      "mimetype": "text/x-python",
      "name": "python",
      "nbconvert_exporter": "python",
      "pygments_lexer": "ipython3",
      "version": "3.9.10"
    },
    "colab": {
      "provenance": []
    }
  },
  "nbformat": 4,
  "nbformat_minor": 5
}